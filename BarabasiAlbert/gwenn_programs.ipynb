{
 "cells": [
  {
   "cell_type": "code",
   "execution_count": 1,
   "metadata": {},
   "outputs": [],
   "source": [
    "import sys\n",
    "sys.path.insert(1,'..')\n",
    "import learnHeat as lh\n",
    "from importlib import reload\n",
    "lh = reload(lh)\n",
    "import pygsp as pg\n",
    "import numpy as np\n",
    "import random\n",
    "import scores_table as scort\n",
    "scort = reload(scort)\n",
    "import matplotlib.pyplot as plt"
   ]
  },
  {
   "cell_type": "code",
   "execution_count": null,
   "metadata": {},
   "outputs": [],
   "source": [
    "trial = np.load('trial.npy')\n",
    "trial += 1\n",
    "experiments = 1\n",
    "N = 20\n",
    "tau0 = [0.5,1,2.5,4]\n",
    "Mvec = [1,3,5,7,10]\n",
    "quantiles = [0.01,0.1,0.2,0.3,0.4,0.5,0.6,0.7,0.8,0.9,0.99]\n",
    "alpha = 0.01\n",
    "beta = 0.1\n",
    "score_res = np.zeros([experiments,len(Mvec),len(quantiles),3,2])\n",
    "max_iter = 50\n",
    "for i in range(experiments):\n",
    "    ground_laplacians = []\n",
    "    learned_laplacians = []\n",
    "    for M in range(Mvec):\n",
    "        L = lh.heat_graph_BA(N,Mvec[M])\n",
    "        ground_laplacians.append(L)\n",
    "        X = lh.create_deltas(L,tau0)\n",
    "        res = lh.learn_heat(X,tau0=tau0,alpha=alpha,beta=beta,max_iter=max_iter)\n",
    "        L_learned = res[\"L\"]\n",
    "        L_learned[abs(L_learned<0.001)] = 0\n",
    "        learned_laplacians.append(L_learned)\n",
    "\n",
    "w\n",
    "    for j in range(3):\n",
    "        # do stuff\n",
    "        for q in range(len(quantiles)):\n",
    "            score_res[i,j,q,0,:] = scort.both_scores(lh.heat_quantile(learned_laplacians[j],quantiles[q]),ground_laplacians[j])\n",
    "        for f in range(len(finesse)):\n",
    "            score_res[i,j,f,1,:] = scort.both_scores(lh.heat_persistent(learned_laplacians[j],finesse[f]),ground_laplacians[j])\n",
    "        for w in range(len(windows)):\n",
    "            score_res[i,j,w,2,:] = scort.both_scores(lh.weight_clusters(learned_laplacians[j],windows[w]),ground_laplacians[j])\n",
    "        score_res[i,j,0,3,:] = scort.both_scores(lh.heat_threshold(learned_laplacians[j],np.random.rand()),ground_laplacians[j])\n",
    "\n",
    "np.save(f\"noparams_CONV_QUANT_PERS_{trial}_experiments{experiments}_N{N}_iter{max_iter}.npy\",score_res)\n",
    "np.save(\"trial.npy\",trial)"
   ]
  },
  {
   "cell_type": "code",
   "execution_count": 2,
   "metadata": {},
   "outputs": [],
   "source": [
    "trial=0\n",
    "np.save(\"trial.npy\",trial)\n"
   ]
  }
 ],
 "metadata": {
  "kernelspec": {
   "display_name": "Python 3",
   "language": "python",
   "name": "python3"
  },
  "language_info": {
   "codemirror_mode": {
    "name": "ipython",
    "version": 3
   },
   "file_extension": ".py",
   "mimetype": "text/x-python",
   "name": "python",
   "nbconvert_exporter": "python",
   "pygments_lexer": "ipython3",
   "version": "3.8.10"
  },
  "orig_nbformat": 4
 },
 "nbformat": 4,
 "nbformat_minor": 2
}
