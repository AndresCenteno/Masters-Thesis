{
 "cells": [
  {
   "cell_type": "code",
   "execution_count": 32,
   "metadata": {},
   "outputs": [],
   "source": [
    "# using Python 3.10.6\n",
    "import learnHeat as lh\n",
    "import networkx as nx\n",
    "import numpy as np\n",
    "from matplotlib import pyplot as plt\n",
    "from importlib import reload\n",
    "lh = reload(lh) # because I'm modifying stuff\n",
    "import emoji\n",
    "np.set_printoptions(precision=5)\n",
    "np.set_printoptions(suppress=True)\n",
    "\n",
    "np.random.seed(10)"
   ]
  },
  {
   "attachments": {},
   "cell_type": "markdown",
   "metadata": {},
   "source": [
    "Was\n",
    "$X=\\texttt{create\\_signal}(L_0,H_0,\\tau_0)$\n",
    "\n",
    "then I would expect to retrieve three ground inputs from at least two\n",
    "\n",
    "$\\text{res} = \\texttt{learnHeat}(X,L_{rand},H_0,\\tau_0)\\\\\n",
    "=\\texttt{learnHeat}(X,L_0,H_{rand},\\tau_0)\n",
    "\\\\=\\texttt{learnHeat}(X,L_0,H_0,\\tau_{rand})$"
   ]
  },
  {
   "cell_type": "code",
   "execution_count": 22,
   "metadata": {},
   "outputs": [],
   "source": [
    "N = 7 # number of vertices\n",
    "M = 50 # number of signals\n",
    "tau_ground = [2.5,4] # as in paper\n",
    "X, L_ground, H_ground = lh.create_signal_and_graph(N,M,tau_ground=tau_ground,se=0) # no noise"
   ]
  },
  {
   "cell_type": "code",
   "execution_count": 23,
   "metadata": {},
   "outputs": [
    {
     "data": {
      "application/vnd.jupyter.widget-view+json": {
       "model_id": "8deb8b58d837480b9842ef86413432ea",
       "version_major": 2,
       "version_minor": 0
      },
      "text/plain": [
       "Learning progress:   0%|          | 0/100 [00:00<?, ?it/s]"
      ]
     },
     "metadata": {},
     "output_type": "display_data"
    },
    {
     "data": {
      "application/vnd.jupyter.widget-view+json": {
       "model_id": "c5ce0c5ceef24377bcbb1f31667cedf1",
       "version_major": 2,
       "version_minor": 0
      },
      "text/plain": []
     },
     "metadata": {},
     "output_type": "display_data"
    }
   ],
   "source": [
    "res = lh.learn_heat(X,H0=H_ground,tau0=tau_ground,beta=0.05)"
   ]
  },
  {
   "cell_type": "code",
   "execution_count": 24,
   "metadata": {},
   "outputs": [
    {
     "data": {
      "image/png": "[encoded data removed]",
      "text/plain": [
       "<Figure size 432x288 with 2 Axes>"
      ]
     },
     "metadata": {
      "needs_background": "light"
     },
     "output_type": "display_data"
    }
   ],
   "source": [
    "vmin = -0.5\n",
    "vmax = 0.5\n",
    "f, (ax1, ax2) = plt.subplots(1, 2, sharey=True)\n",
    "ax1.imshow(L_ground/np.trace(L_ground)*N, vmin = vmin, vmax = vmax)\n",
    "ax1.set_title('L_ground')\n",
    "ax2.imshow(res[\"L\"], vmin = vmin, vmax = vmax)\n",
    "ax2.set_title('L_trained')\n",
    "plt.show()"
   ]
  },
  {
   "attachments": {},
   "cell_type": "markdown",
   "metadata": {},
   "source": [
    "I'm not able to retrieve the Laplacian, learned Laplacian is actually too sparse!!"
   ]
  },
  {
   "cell_type": "code",
   "execution_count": 25,
   "metadata": {},
   "outputs": [
    {
     "data": {
      "text/plain": [
       "7.0000000004205525"
      ]
     },
     "execution_count": 25,
     "metadata": {},
     "output_type": "execute_result"
    }
   ],
   "source": [
    "np.trace(res[\"L\"]) #trace is ok"
   ]
  },
  {
   "cell_type": "code",
   "execution_count": 35,
   "metadata": {},
   "outputs": [
    {
     "data": {
      "text/plain": [
       "array([[ 0.],\n",
       "       [ 0.],\n",
       "       [-0.],\n",
       "       [ 0.],\n",
       "       [ 0.],\n",
       "       [ 0.],\n",
       "       [ 0.]])"
      ]
     },
     "execution_count": 35,
     "metadata": {},
     "output_type": "execute_result"
    }
   ],
   "source": [
    "res[\"L\"]@np.ones([N,1]) # eigenvector enforced"
   ]
  },
  {
   "attachments": {},
   "cell_type": "markdown",
   "metadata": {},
   "source": [
    "I see a problem, when asking for $\\text{tr}(L)=N$ we are not ensuring that it is a valid Standard Laplacian as $L_{ii}\\neq 1$. The algorithm isn't even stable for the loss function without regularizers"
   ]
  },
  {
   "cell_type": "code",
   "execution_count": 28,
   "metadata": {},
   "outputs": [
    {
     "data": {
      "text/plain": [
       "9.215093301406828e-31"
      ]
     },
     "execution_count": 28,
     "metadata": {},
     "output_type": "execute_result"
    }
   ],
   "source": [
    "# checking if loss function is 0 for ground data\n",
    "np.linalg.norm(X-lh.D(L_ground,tau_ground)@H_ground,'fro')**2\n",
    "# yes it is and to good precision there is not a lot of roundoff errors"
   ]
  },
  {
   "cell_type": "code",
   "execution_count": 26,
   "metadata": {},
   "outputs": [
    {
     "data": {
      "application/vnd.jupyter.widget-view+json": {
       "model_id": "916db8c78c2841be947bf7822ef813fd",
       "version_major": 2,
       "version_minor": 0
      },
      "text/plain": [
       "Learning progress:   0%|          | 0/100 [00:00<?, ?it/s]"
      ]
     },
     "metadata": {},
     "output_type": "display_data"
    },
    {
     "data": {
      "application/vnd.jupyter.widget-view+json": {
       "model_id": "d8fd1d318b1e49918a7f2cf504059418",
       "version_major": 2,
       "version_minor": 0
      },
      "text/plain": []
     },
     "metadata": {},
     "output_type": "display_data"
    }
   ],
   "source": [
    "res = lh.learn_heat(X,L0=L_ground,H0=H_ground,tau0=tau_ground,alpha=0,beta=0)"
   ]
  },
  {
   "cell_type": "code",
   "execution_count": 33,
   "metadata": {},
   "outputs": [
    {
     "data": {
      "image/png": "[encoded data removed]",
      "text/plain": [
       "<Figure size 432x288 with 2 Axes>"
      ]
     },
     "metadata": {
      "needs_background": "light"
     },
     "output_type": "display_data"
    },
    {
     "name": "stdout",
     "output_type": "stream",
     "text": [
      "This should not be happening 💀\n"
     ]
    }
   ],
   "source": [
    "vmin = -0.5\n",
    "vmax = 0.5\n",
    "f, (ax1, ax2) = plt.subplots(1, 2, sharey=True)\n",
    "ax1.imshow(L_ground/np.trace(L_ground)*N, vmin = vmin, vmax = vmax)\n",
    "ax1.set_title('L_ground')\n",
    "ax2.imshow(res[\"L\"], vmin = vmin, vmax = vmax)\n",
    "ax2.set_title('L_trained')\n",
    "plt.show()\n",
    "print(emoji.emojize('This should not be happening :skull:'))\n"
   ]
  },
  {
   "attachments": {},
   "cell_type": "markdown",
   "metadata": {},
   "source": [
    "Last try, feeding all correctly except $\\tau$"
   ]
  },
  {
   "cell_type": "code",
   "execution_count": 34,
   "metadata": {},
   "outputs": [
    {
     "data": {
      "application/vnd.jupyter.widget-view+json": {
       "model_id": "f7aa68cf06ad42ffb4c33563634127bc",
       "version_major": 2,
       "version_minor": 0
      },
      "text/plain": [
       "Learning progress:   0%|          | 0/100 [00:00<?, ?it/s]"
      ]
     },
     "metadata": {},
     "output_type": "display_data"
    },
    {
     "data": {
      "application/vnd.jupyter.widget-view+json": {
       "model_id": "0a2d911384e949c296e28872d2591485",
       "version_major": 2,
       "version_minor": 0
      },
      "text/plain": []
     },
     "metadata": {},
     "output_type": "display_data"
    }
   ],
   "source": [
    "res = lh.learn_heat(X,L0=L_ground,H0=H_ground,tau0=[1,2],alpha=0.1,beta=0.05)"
   ]
  },
  {
   "cell_type": "code",
   "execution_count": 36,
   "metadata": {},
   "outputs": [
    {
     "data": {
      "text/plain": [
       "[2.5, 4]"
      ]
     },
     "execution_count": 36,
     "metadata": {},
     "output_type": "execute_result"
    }
   ],
   "source": [
    "tau_ground"
   ]
  },
  {
   "cell_type": "code",
   "execution_count": 38,
   "metadata": {},
   "outputs": [
    {
     "data": {
      "text/plain": [
       "array([0.     , 1.48581])"
      ]
     },
     "execution_count": 38,
     "metadata": {},
     "output_type": "execute_result"
    }
   ],
   "source": [
    "res[\"tau\"]"
   ]
  },
  {
   "attachments": {},
   "cell_type": "markdown",
   "metadata": {},
   "source": [
    "Suppose we just use one diffusion rate and one signal, and that we lock in the Laplacian, how can the algorithm distinguish from\n",
    "\n",
    "$H_0$ and $\\tau=1$\n",
    "\n",
    "between $e^{-0.5 L} H_0$ and $\\tau=0.5$\n",
    "this is trivial if you diagonalize"
   ]
  },
  {
   "cell_type": "code",
   "execution_count": 57,
   "metadata": {},
   "outputs": [],
   "source": [
    "from scipy.linalg import expm"
   ]
  },
  {
   "cell_type": "code",
   "execution_count": 58,
   "metadata": {},
   "outputs": [
    {
     "data": {
      "text/plain": [
       "2.1000903724951387e-16"
      ]
     },
     "execution_count": 58,
     "metadata": {},
     "output_type": "execute_result"
    }
   ],
   "source": [
    "lhs = expm(-0.5*L_ground)@(expm(-0.5*L_ground)@H_ground[0:7,0])\n",
    "rhs = expm(-L_ground)@H_ground[0:7,0]\n",
    "np.linalg.norm(lhs-rhs)"
   ]
  }
 ],
 "metadata": {
  "kernelspec": {
   "display_name": "Python 3",
   "language": "python",
   "name": "python3"
  },
  "language_info": {
   "codemirror_mode": {
    "name": "ipython",
    "version": 3
   },
   "file_extension": ".py",
   "mimetype": "text/x-python",
   "name": "python",
   "nbconvert_exporter": "python",
   "pygments_lexer": "ipython3",
   "version": "3.10.6"
  },
  "orig_nbformat": 4
 },
 "nbformat": 4,
 "nbformat_minor": 2
}
