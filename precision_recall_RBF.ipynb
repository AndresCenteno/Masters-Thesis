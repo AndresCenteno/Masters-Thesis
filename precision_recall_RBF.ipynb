{
 "cells": [
  {
   "cell_type": "code",
   "execution_count": 2,
   "metadata": {},
   "outputs": [],
   "source": [
    "import matplotlib as mpl\n",
    "mpl.use('pgf')\n",
    "import matplotlib.pyplot as plt\n",
    "import learnHeat as lh\n",
    "import numpy as np\n",
    "np.set_printoptions(precision=5)\n",
    "np.set_printoptions(suppress=True)"
   ]
  },
  {
   "attachments": {},
   "cell_type": "markdown",
   "metadata": {},
   "source": [
    "Tarea 1: modificar create signal para que haga una señal RBF\n",
    "\n",
    "Tarea 1: done"
   ]
  },
  {
   "cell_type": "code",
   "execution_count": 23,
   "metadata": {},
   "outputs": [],
   "source": [
    "from importlib import reload\n",
    "lh = reload(lh)\n",
    "\n",
    "X, L, H, tau = lh.create_signal2(N=20,M=100,tau_ground=[2.5,4],se=1)"
   ]
  },
  {
   "attachments": {},
   "cell_type": "markdown",
   "metadata": {},
   "source": [
    "Tarea 2: hacer un linspace con alpha y beta, calcular la loss, la curva de precision recall y el l2 error para cada combinacion de alpha beta, para cada combinación, plotear la mejor fmeasure que obtengamos"
   ]
  },
  {
   "cell_type": "code",
   "execution_count": 28,
   "metadata": {},
   "outputs": [],
   "source": [
    "alpha = [10**i for i in range(0, -7, -1//2)]\n",
    "beta = [10**i for i in range(0,-2,-1)]"
   ]
  },
  {
   "cell_type": "code",
   "execution_count": 29,
   "metadata": {},
   "outputs": [
    {
     "data": {
      "application/vnd.jupyter.widget-view+json": {
       "model_id": "910f534e506d484e9feb05f1d05d7559",
       "version_major": 2,
       "version_minor": 0
      },
      "text/plain": [
       "Learning progress:   0%|          | 0/50 [00:00<?, ?it/s]"
      ]
     },
     "metadata": {},
     "output_type": "display_data"
    },
    {
     "data": {
      "application/vnd.jupyter.widget-view+json": {
       "model_id": "28ee0391793a4e21ad44f6111be67863",
       "version_major": 2,
       "version_minor": 0
      },
      "text/plain": []
     },
     "metadata": {},
     "output_type": "display_data"
    },
    {
     "data": {
      "application/vnd.jupyter.widget-view+json": {
       "model_id": "9932b0630dd744c58d9d21c31ba097cd",
       "version_major": 2,
       "version_minor": 0
      },
      "text/plain": [
       "Learning progress:   0%|          | 0/50 [00:00<?, ?it/s]"
      ]
     },
     "metadata": {},
     "output_type": "display_data"
    },
    {
     "data": {
      "application/vnd.jupyter.widget-view+json": {
       "model_id": "c9fb371681be47098ffd86e881076bfa",
       "version_major": 2,
       "version_minor": 0
      },
      "text/plain": []
     },
     "metadata": {},
     "output_type": "display_data"
    },
    {
     "data": {
      "application/vnd.jupyter.widget-view+json": {
       "model_id": "875335145d64402fbeb90f500f895bf6",
       "version_major": 2,
       "version_minor": 0
      },
      "text/plain": [
       "Learning progress:   0%|          | 0/50 [00:00<?, ?it/s]"
      ]
     },
     "metadata": {},
     "output_type": "display_data"
    },
    {
     "data": {
      "application/vnd.jupyter.widget-view+json": {
       "model_id": "042ff0384ca042a6bcc977ecc4359d35",
       "version_major": 2,
       "version_minor": 0
      },
      "text/plain": []
     },
     "metadata": {},
     "output_type": "display_data"
    },
    {
     "data": {
      "application/vnd.jupyter.widget-view+json": {
       "model_id": "5579483002b7420797552cfa58ea2848",
       "version_major": 2,
       "version_minor": 0
      },
      "text/plain": [
       "Learning progress:   0%|          | 0/50 [00:00<?, ?it/s]"
      ]
     },
     "metadata": {},
     "output_type": "display_data"
    },
    {
     "data": {
      "application/vnd.jupyter.widget-view+json": {
       "model_id": "66aa554341d04568bc87ae23d39cdf57",
       "version_major": 2,
       "version_minor": 0
      },
      "text/plain": []
     },
     "metadata": {},
     "output_type": "display_data"
    },
    {
     "data": {
      "application/vnd.jupyter.widget-view+json": {
       "model_id": "9ba898bc634040aba6fabc2a07c0a7a0",
       "version_major": 2,
       "version_minor": 0
      },
      "text/plain": [
       "Learning progress:   0%|          | 0/50 [00:00<?, ?it/s]"
      ]
     },
     "metadata": {},
     "output_type": "display_data"
    },
    {
     "data": {
      "application/vnd.jupyter.widget-view+json": {
       "model_id": "e9089ca262f84f789c4125c6410fe064",
       "version_major": 2,
       "version_minor": 0
      },
      "text/plain": []
     },
     "metadata": {},
     "output_type": "display_data"
    },
    {
     "data": {
      "application/vnd.jupyter.widget-view+json": {
       "model_id": "db4b607faa414a3d9207a4575a5f4b42",
       "version_major": 2,
       "version_minor": 0
      },
      "text/plain": [
       "Learning progress:   0%|          | 0/50 [00:00<?, ?it/s]"
      ]
     },
     "metadata": {},
     "output_type": "display_data"
    },
    {
     "data": {
      "application/vnd.jupyter.widget-view+json": {
       "model_id": "34567984e0ca431fbebed5590771b65c",
       "version_major": 2,
       "version_minor": 0
      },
      "text/plain": []
     },
     "metadata": {},
     "output_type": "display_data"
    },
    {
     "data": {
      "application/vnd.jupyter.widget-view+json": {
       "model_id": "2bda9bccbdef4e31b20cd4accd8f83f3",
       "version_major": 2,
       "version_minor": 0
      },
      "text/plain": [
       "Learning progress:   0%|          | 0/50 [00:00<?, ?it/s]"
      ]
     },
     "metadata": {},
     "output_type": "display_data"
    },
    {
     "data": {
      "application/vnd.jupyter.widget-view+json": {
       "model_id": "c44b787ee5a8483bb94425c84926b73f",
       "version_major": 2,
       "version_minor": 0
      },
      "text/plain": []
     },
     "metadata": {},
     "output_type": "display_data"
    },
    {
     "data": {
      "application/vnd.jupyter.widget-view+json": {
       "model_id": "4236c9417a9949bfb6c49ffa227a758f",
       "version_major": 2,
       "version_minor": 0
      },
      "text/plain": [
       "Learning progress:   0%|          | 0/50 [00:00<?, ?it/s]"
      ]
     },
     "metadata": {},
     "output_type": "display_data"
    },
    {
     "data": {
      "application/vnd.jupyter.widget-view+json": {
       "model_id": "5c1fb37663c2411f8888b553ff741c19",
       "version_major": 2,
       "version_minor": 0
      },
      "text/plain": []
     },
     "metadata": {},
     "output_type": "display_data"
    },
    {
     "data": {
      "application/vnd.jupyter.widget-view+json": {
       "model_id": "bb35854aeace452ba4544c1a966a4ea1",
       "version_major": 2,
       "version_minor": 0
      },
      "text/plain": [
       "Learning progress:   0%|          | 0/50 [00:00<?, ?it/s]"
      ]
     },
     "metadata": {},
     "output_type": "display_data"
    },
    {
     "data": {
      "application/vnd.jupyter.widget-view+json": {
       "model_id": "0f0b04bf6dc24220b11f13f8165732c0",
       "version_major": 2,
       "version_minor": 0
      },
      "text/plain": []
     },
     "metadata": {},
     "output_type": "display_data"
    },
    {
     "data": {
      "application/vnd.jupyter.widget-view+json": {
       "model_id": "3b342b6439684fb3b436f796642cf42d",
       "version_major": 2,
       "version_minor": 0
      },
      "text/plain": [
       "Learning progress:   0%|          | 0/50 [00:00<?, ?it/s]"
      ]
     },
     "metadata": {},
     "output_type": "display_data"
    },
    {
     "data": {
      "application/vnd.jupyter.widget-view+json": {
       "model_id": "842266ff2f73443995aff0381a5665ea",
       "version_major": 2,
       "version_minor": 0
      },
      "text/plain": []
     },
     "metadata": {},
     "output_type": "display_data"
    },
    {
     "data": {
      "application/vnd.jupyter.widget-view+json": {
       "model_id": "c54bfd71ca654d2380c1289df22fc487",
       "version_major": 2,
       "version_minor": 0
      },
      "text/plain": [
       "Learning progress:   0%|          | 0/50 [00:00<?, ?it/s]"
      ]
     },
     "metadata": {},
     "output_type": "display_data"
    },
    {
     "data": {
      "application/vnd.jupyter.widget-view+json": {
       "model_id": "bf6ed94e89824c55b5efec432c8e155e",
       "version_major": 2,
       "version_minor": 0
      },
      "text/plain": []
     },
     "metadata": {},
     "output_type": "display_data"
    },
    {
     "data": {
      "application/vnd.jupyter.widget-view+json": {
       "model_id": "409015d211134c7fb6636f39478fe9e8",
       "version_major": 2,
       "version_minor": 0
      },
      "text/plain": [
       "Learning progress:   0%|          | 0/50 [00:00<?, ?it/s]"
      ]
     },
     "metadata": {},
     "output_type": "display_data"
    },
    {
     "data": {
      "application/vnd.jupyter.widget-view+json": {
       "model_id": "ff0f2cd0da1e4bbdb7e3c868b3756663",
       "version_major": 2,
       "version_minor": 0
      },
      "text/plain": []
     },
     "metadata": {},
     "output_type": "display_data"
    },
    {
     "data": {
      "application/vnd.jupyter.widget-view+json": {
       "model_id": "03bcb998566146cbbd670035f4ad6a61",
       "version_major": 2,
       "version_minor": 0
      },
      "text/plain": [
       "Learning progress:   0%|          | 0/50 [00:00<?, ?it/s]"
      ]
     },
     "metadata": {},
     "output_type": "display_data"
    },
    {
     "data": {
      "application/vnd.jupyter.widget-view+json": {
       "model_id": "531e91ddc16b484882786341aff23e62",
       "version_major": 2,
       "version_minor": 0
      },
      "text/plain": []
     },
     "metadata": {},
     "output_type": "display_data"
    },
    {
     "data": {
      "application/vnd.jupyter.widget-view+json": {
       "model_id": "a6499609ee6d4d228274b5b08c88258d",
       "version_major": 2,
       "version_minor": 0
      },
      "text/plain": [
       "Learning progress:   0%|          | 0/50 [00:00<?, ?it/s]"
      ]
     },
     "metadata": {},
     "output_type": "display_data"
    },
    {
     "data": {
      "application/vnd.jupyter.widget-view+json": {
       "model_id": "e82667dc5b12420eb23f4cc5c4b82a2b",
       "version_major": 2,
       "version_minor": 0
      },
      "text/plain": []
     },
     "metadata": {},
     "output_type": "display_data"
    }
   ],
   "source": [
    "from itertools import product\n",
    "import pickle\n",
    "\n",
    "results = []\n",
    "score_results = []\n",
    "for combo in product(alpha,beta):\n",
    "    result = lh.learn_heat(X,max_iter=50,verbose=False,alpha=combo[0],beta=combo[1])\n",
    "    results.append(result)\n",
    "    score_results.append(lh.heat_scores(result[\"L\"],L,num_trials=10))\n",
    "with open('lists.pkl','wb') as f:\n",
    "    pickle.dump((results,score_results),f)"
   ]
  },
  {
   "cell_type": "code",
   "execution_count": 59,
   "metadata": {},
   "outputs": [],
   "source": [
    "f_measures = []\n",
    "for i in range(len(score_results)):\n",
    "    current_max = float('-inf')\n",
    "    for j in range(len(score_results[0][0])):\n",
    "        a = score_results[i][0][j]\n",
    "        b = score_results[i][1][j]\n",
    "        if a == 0 or b == 0:\n",
    "            fmeas = -1\n",
    "        else:\n",
    "            fmeas = 2/((a)**(-1)+(b)**(-1))\n",
    "        current_max = max(current_max, fmeas)\n",
    "    f_measures.append(current_max)\n",
    "# it gives the same over and over at recall = 1 where there are no false negatives (everything is negative almost)"
   ]
  }
 ],
 "metadata": {
  "kernelspec": {
   "display_name": "Python 3",
   "language": "python",
   "name": "python3"
  },
  "language_info": {
   "codemirror_mode": {
    "name": "ipython",
    "version": 3
   },
   "file_extension": ".py",
   "mimetype": "text/x-python",
   "name": "python",
   "nbconvert_exporter": "python",
   "pygments_lexer": "ipython3",
   "version": "3.8.10"
  },
  "orig_nbformat": 4
 },
 "nbformat": 4,
 "nbformat_minor": 2
}
