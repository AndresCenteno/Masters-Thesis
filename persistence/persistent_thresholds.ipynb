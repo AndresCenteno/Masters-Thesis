{
 "cells": [
  {
   "cell_type": "code",
   "execution_count": 4,
   "metadata": {},
   "outputs": [],
   "source": [
    "import sys\n",
    "sys.path.insert(1,'..')\n",
    "import learnHeat as lh\n",
    "import pygsp as pg\n",
    "import numpy as np"
   ]
  },
  {
   "attachments": {},
   "cell_type": "markdown",
   "metadata": {},
   "source": [
    "We need a function that takes the Laplacian and spits the most persistent Laplacian and do scores with that\n",
    "(F-measure, precision, recall, NMI), so we should do it with different kinds of graphs, so\n",
    "with threshold at 0.01 and with threshold at random"
   ]
  },
  {
   "attachments": {},
   "cell_type": "markdown",
   "metadata": {},
   "source": [
    "### Erdös-Rényi"
   ]
  },
  {
   "cell_type": "code",
   "execution_count": 5,
   "metadata": {},
   "outputs": [
    {
     "name": "stderr",
     "output_type": "stream",
     "text": [
      "/home/aner/Documents/Math/learning_graphs/persistence/../scores_table.py:47: RuntimeWarning: invalid value encountered in scalar divide\n",
      "  recall = true_positives / (true_positives + false_negatives)\n",
      "/home/aner/Documents/Math/learning_graphs/persistence/../scores_table.py:48: RuntimeWarning: divide by zero encountered in scalar divide\n",
      "  f_score = 2/  (1 / precision + 1 / recall)\n"
     ]
    }
   ],
   "source": [
    "### 100 experiments, 100 random graphs, 3 lists\n",
    "import random\n",
    "import scores_table as scort\n",
    "\n",
    "sc_persistent = []\n",
    "sc_random = []\n",
    "sc_thresh = []\n",
    "experiments = 1\n",
    "N = 20\n",
    "tau0 = [1,2.5,4]\n",
    "thresh = 0.1\n",
    "\n",
    "array = np.zeros([experiments,])\n",
    "\n",
    "for i in range(experiments):\n",
    "    L_ground = lh.heat_graph_ER(N)\n",
    "    length = random.randint(1,3)\n",
    "    taus = []\n",
    "    for _ in range(length):\n",
    "        taus.append(random.random()*4)\n",
    "    X = lh.create_deltas(L_ground,taus)\n",
    "    res = lh.learn_heat(X,tau0=tau0[:length],alpha=0.01,beta=0.1)\n",
    "    learned_L = res[\"L\"]\n",
    "    # do thresholding\n",
    "    L1,_ = lh.heat_persistent(learned_L)\n",
    "    L2 = lh.heat_threshold(learned_L,thresh=random.random())\n",
    "    L3 = lh.heat_threshold(learned_L,thresh=thresh)\n",
    "\n",
    "    # do measuring\n",
    "    array[i,0] = scort.scores(L1,L_ground)\n",
    "    array[i,1] = scort.scores(L2,L_ground)\n",
    "    array[i,2] = scort.scores(L3,L_ground)"
   ]
  },
  {
   "cell_type": "code",
   "execution_count": 9,
   "metadata": {},
   "outputs": [
    {
     "data": {
      "text/plain": [
       "[[0.015384615384615385, 1.0, 0.030303030303030304]]"
      ]
     },
     "execution_count": 9,
     "metadata": {},
     "output_type": "execute_result"
    }
   ],
   "source": [
    "sc_persistent #hay que hacer mejor la sc_persistent"
   ]
  }
 ],
 "metadata": {
  "kernelspec": {
   "display_name": "Python 3",
   "language": "python",
   "name": "python3"
  },
  "language_info": {
   "codemirror_mode": {
    "name": "ipython",
    "version": 3
   },
   "file_extension": ".py",
   "mimetype": "text/x-python",
   "name": "python",
   "nbconvert_exporter": "python",
   "pygments_lexer": "ipython3",
   "version": "3.8.10"
  },
  "orig_nbformat": 4
 },
 "nbformat": 4,
 "nbformat_minor": 2
}
