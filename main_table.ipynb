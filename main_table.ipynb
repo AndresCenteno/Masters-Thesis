{
 "cells": [
  {
   "attachments": {},
   "cell_type": "markdown",
   "metadata": {},
   "source": [
    "We need normalized mutual information (NMI) to work"
   ]
  },
  {
   "cell_type": "code",
   "execution_count": 16,
   "metadata": {},
   "outputs": [],
   "source": [
    "from importlib import reload\n",
    "import scores_table as scort\n",
    "import learnHeat as lh\n",
    "scort = reload(scort)\n",
    "lh = reload(lh)\n",
    "import pandas as pd"
   ]
  },
  {
   "cell_type": "code",
   "execution_count": 12,
   "metadata": {},
   "outputs": [
    {
     "name": "stdout",
     "output_type": "stream",
     "text": [
      "entered function\n",
      "type is 1, standard deviation is 0, here we go\n",
      "type is 1, standard deviation is 0.1, here we go\n",
      "type is 1, standard deviation is 0.5, here we go\n",
      "type is 2, standard deviation is 0, here we go\n",
      "type is 2, standard deviation is 0.1, here we go\n",
      "type is 2, standard deviation is 0.5, here we go\n",
      "type is 3, standard deviation is 0, here we go\n",
      "type is 3, standard deviation is 0.1, here we go\n",
      "type is 3, standard deviation is 0.5, here we go\n"
     ]
    }
   ],
   "source": [
    "import warnings\n",
    "warnings.filterwarnings('ignore')\n",
    "N=20\n",
    "max_iter=50\n",
    "df = lh.heat_master(N,max_iter)\n",
    "df.to_csv(\"data frames/my_trial_Hfull_N_{}_max_iter_{}.csv\".format(N,max_iter),index=False)"
   ]
  },
  {
   "cell_type": "code",
   "execution_count": 15,
   "metadata": {},
   "outputs": [],
   "source": [
    "df.to_csv(\"data frames/my_trial_Hfull_N_{}_max_iter_{}.csv\".format(N,max_iter),index=False)"
   ]
  },
  {
   "cell_type": "code",
   "execution_count": 17,
   "metadata": {},
   "outputs": [],
   "source": [
    "df2 = pd.read_csv(\"data frames/my_trial_N_10_max_iter_50.csv\")"
   ]
  },
  {
   "cell_type": "code",
   "execution_count": 28,
   "metadata": {},
   "outputs": [],
   "source": [
    "dfmax = df2.loc[df2['Information']=='Max']\n"
   ]
  },
  {
   "cell_type": "code",
   "execution_count": 20,
   "metadata": {},
   "outputs": [],
   "source": [
    "dfmax[dfmax['Graph Type']==1]['Graph Type'] = 'RBF graph'"
   ]
  },
  {
   "cell_type": "code",
   "execution_count": 29,
   "metadata": {},
   "outputs": [],
   "source": [
    "dfmax['Graph Type']=dfmax['Graph Type'].replace({1:'RBF',2:'Erdös Réyni',3:'Barabási Albert'})"
   ]
  },
  {
   "cell_type": "code",
   "execution_count": 32,
   "metadata": {},
   "outputs": [],
   "source": [
    "dfmax.drop('Information',axis=1)\n",
    "dfmax = dfmax.round(2)"
   ]
  },
  {
   "cell_type": "code",
   "execution_count": 34,
   "metadata": {},
   "outputs": [],
   "source": [
    "dfmax.to_csv('data frames/N_10_max_iter_50_processed.csv',index=False)"
   ]
  }
 ],
 "metadata": {
  "kernelspec": {
   "display_name": "Python 3",
   "language": "python",
   "name": "python3"
  },
  "language_info": {
   "codemirror_mode": {
    "name": "ipython",
    "version": 3
   },
   "file_extension": ".py",
   "mimetype": "text/x-python",
   "name": "python",
   "nbconvert_exporter": "python",
   "pygments_lexer": "ipython3",
   "version": "3.8.10"
  },
  "orig_nbformat": 4
 },
 "nbformat": 4,
 "nbformat_minor": 2
}
