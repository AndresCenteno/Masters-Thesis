{
 "cells": [
  {
   "attachments": {},
   "cell_type": "markdown",
   "metadata": {},
   "source": [
    "##### Purpose of this code is to save a lot of figures of precision-recall curves to a .pgf"
   ]
  },
  {
   "cell_type": "code",
   "execution_count": 1,
   "metadata": {},
   "outputs": [],
   "source": [
    "import matplotlib as mpl\n",
    "mpl.use('pgf')\n",
    "import matplotlib.pyplot as plt"
   ]
  },
  {
   "cell_type": "code",
   "execution_count": 2,
   "metadata": {},
   "outputs": [],
   "source": [
    "from scipy.stats import norm\n",
    "\n",
    "x = norm.rvs(size=100)\n",
    "y = norm.pdf(x)\n",
    "\n",
    "plt.scatter(x, y, marker='x')\n",
    "plt.savefig('try.pgf', format='pgf')"
   ]
  },
  {
   "cell_type": "markdown",
   "metadata": {},
   "source": [
    "We need to iterate over some parameters"
   ]
  },
  {
   "attachments": {},
   "cell_type": "markdown",
   "metadata": {},
   "source": [
    "\\begin{figure}[ht]\n",
    "    \\centering\n",
    "    \\scalebox{0.7}{\\input{figures/try.pgf}}\n",
    "    \\caption{Probablity of failure of the Euler-Maruyama method under our setup. We plot $P(\\tilde{X}_{t+1}\\leq 0|\\tilde{X}_{t} = \\E{X_t})$. Being true that this probability is low, it is clearly non-zero. Additionally, the real-case probabiliity can be lowe as at timestep $t$ we might be below the expected value, i.e., $X_t<\\E{X_t}$, making the probabilty of failure even larger.}\n",
    "    \\label{fig:failure}\n",
    "\\end{figure}"
   ]
  }
 ],
 "metadata": {
  "kernelspec": {
   "display_name": "Python 3",
   "language": "python",
   "name": "python3"
  },
  "language_info": {
   "codemirror_mode": {
    "name": "ipython",
    "version": 3
   },
   "file_extension": ".py",
   "mimetype": "text/x-python",
   "name": "python",
   "nbconvert_exporter": "python",
   "pygments_lexer": "ipython3",
   "version": "3.8.10"
  },
  "orig_nbformat": 4
 },
 "nbformat": 4,
 "nbformat_minor": 2
}
