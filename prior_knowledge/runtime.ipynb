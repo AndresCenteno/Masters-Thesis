{
 "cells": [
  {
   "attachments": {},
   "cell_type": "markdown",
   "metadata": {},
   "source": [
    "### We want to approximate prior.ipynb without runtime errors"
   ]
  },
  {
   "cell_type": "code",
   "execution_count": 1,
   "metadata": {},
   "outputs": [],
   "source": [
    "import sys\n",
    "sys.path.insert(1,\"../\")\n",
    "import learnHeat as lh\n",
    "import learnHeat3 as lh3\n",
    "import numpy as np\n",
    "import matplotlib.pyplot as plt\n",
    "import scores_table as scort"
   ]
  },
  {
   "cell_type": "code",
   "execution_count": 3,
   "metadata": {},
   "outputs": [
    {
     "name": "stdout",
     "output_type": "stream",
     "text": [
      "0\r"
     ]
    },
    {
     "ename": "Error",
     "evalue": "rescode.err_lower_bound_is_a_nan(1390): The lower bound specified is not a number (nan).",
     "output_type": "error",
     "traceback": [
      "\u001b[0;31m---------------------------------------------------------------------------\u001b[0m",
      "\u001b[0;31mError\u001b[0m                                     Traceback (most recent call last)",
      "Cell \u001b[0;32mIn[3], line 30\u001b[0m\n\u001b[1;32m     28\u001b[0m res2 \u001b[39m=\u001b[39m lh3\u001b[39m.\u001b[39mlearn_heat(XER,lh3\u001b[39m.\u001b[39mcover_zeros(ER,\u001b[39m0\u001b[39m),tau0\u001b[39m=\u001b[39mtau0,alpha\u001b[39m=\u001b[39malpha,beta\u001b[39m=\u001b[39mbeta,max_iter\u001b[39m=\u001b[39mmax_iter)\n\u001b[1;32m     29\u001b[0m res22 \u001b[39m=\u001b[39m lh3\u001b[39m.\u001b[39mlearn_heat(XER,lh3\u001b[39m.\u001b[39mcover_zeros(ER,\u001b[39m1\u001b[39m),tau0\u001b[39m=\u001b[39mtau0,alpha\u001b[39m=\u001b[39malpha,beta\u001b[39m=\u001b[39mbeta,max_iter\u001b[39m=\u001b[39mmax_iter)\n\u001b[0;32m---> 30\u001b[0m res3 \u001b[39m=\u001b[39m lh3\u001b[39m.\u001b[39;49mlearn_heat(XRBF,lh3\u001b[39m.\u001b[39;49mcover_zeros(RBF,\u001b[39m0\u001b[39;49m),tau0\u001b[39m=\u001b[39;49mtau0,alpha\u001b[39m=\u001b[39;49malpha,beta\u001b[39m=\u001b[39;49mbeta,max_iter\u001b[39m=\u001b[39;49mmax_iter)\n\u001b[1;32m     31\u001b[0m res33 \u001b[39m=\u001b[39m lh3\u001b[39m.\u001b[39mlearn_heat(XRBF,lh3\u001b[39m.\u001b[39mcover_zeros(RBF,\u001b[39m1\u001b[39m),tau0\u001b[39m=\u001b[39mtau0,alpha\u001b[39m=\u001b[39malpha,beta\u001b[39m=\u001b[39mbeta,max_iter\u001b[39m=\u001b[39mmax_iter)\n\u001b[1;32m     32\u001b[0m \u001b[39m# threshold a bitttt\u001b[39;00m\n",
      "File \u001b[0;32m~/Documents/math/learning_graphs/prior_knowledge/../learnHeat3.py:288\u001b[0m, in \u001b[0;36mlearn_heat\u001b[0;34m(X, L_ground, L0, H0, tau0, alpha, beta, gamma1, gamma2, gamma3, max_iter, verbose)\u001b[0m\n\u001b[1;32m    285\u001b[0m cost_bar\u001b[39m.\u001b[39mset_description_str(\u001b[39mf\u001b[39m\u001b[39m\"\u001b[39m\u001b[39mCOST: \u001b[39m\u001b[39m{\u001b[39;00m\u001b[39m'\u001b[39m\u001b[39m{:0.5f}\u001b[39;00m\u001b[39m'\u001b[39m\u001b[39m.\u001b[39mformat(cal_cost(X,\u001b[39m \u001b[39mLt,\u001b[39m \u001b[39mHtp1,\u001b[39m \u001b[39mtaut,\u001b[39m \u001b[39malpha,\u001b[39m \u001b[39mbeta))\u001b[39m}\u001b[39;00m\u001b[39m (H updated)\u001b[39m\u001b[39m\"\u001b[39m)\n\u001b[1;32m    286\u001b[0m \u001b[39m# Step to update L and D\u001b[39;00m\n\u001b[1;32m    287\u001b[0m \u001b[39m# Update L\u001b[39;00m\n\u001b[0;32m--> 288\u001b[0m Ltp1 \u001b[39m=\u001b[39m back_tracking(X, L_ground, Lt, Htp1, taut, gamma2, alpha, beta, verbose)\n\u001b[1;32m    289\u001b[0m cost_bar\u001b[39m.\u001b[39mset_description_str(\u001b[39mf\u001b[39m\u001b[39m\"\u001b[39m\u001b[39mCOST: \u001b[39m\u001b[39m{\u001b[39;00m\u001b[39m'\u001b[39m\u001b[39m{:0.5f}\u001b[39;00m\u001b[39m'\u001b[39m\u001b[39m.\u001b[39mformat(cal_cost(X,\u001b[39m \u001b[39mLtp1,\u001b[39m \u001b[39mHtp1,\u001b[39m \u001b[39mtaut,\u001b[39m \u001b[39malpha,\u001b[39m \u001b[39mbeta))\u001b[39m}\u001b[39;00m\u001b[39m (L updated)\u001b[39m\u001b[39m\"\u001b[39m)\n\u001b[1;32m    291\u001b[0m \u001b[39m## Step to update tau and D\u001b[39;00m\n",
      "File \u001b[0;32m~/Documents/math/learning_graphs/prior_knowledge/../learnHeat3.py:53\u001b[0m, in \u001b[0;36mback_tracking\u001b[0;34m(X, L_ground, Lt, Htp1, taut, gamma2, alpha, beta, verbose)\u001b[0m\n\u001b[1;32m     51\u001b[0m c2 \u001b[39m=\u001b[39m (eta\u001b[39m*\u001b[39m\u001b[39m*\u001b[39mk)\u001b[39m*\u001b[39mc2\n\u001b[1;32m     52\u001b[0m dt \u001b[39m=\u001b[39m gamma2\u001b[39m*\u001b[39mc2\n\u001b[0;32m---> 53\u001b[0m Ltp1 \u001b[39m=\u001b[39m admm(X, Lt, gradient, Htp1, taut, dt, beta, verbose)\n\u001b[1;32m     54\u001b[0m k \u001b[39m+\u001b[39m\u001b[39m=\u001b[39m \u001b[39m1\u001b[39m\n\u001b[1;32m     55\u001b[0m cond, detail \u001b[39m=\u001b[39m descent_condition(X \u001b[39m=\u001b[39m X, Ltp1 \u001b[39m=\u001b[39m Ltp1, Lt \u001b[39m=\u001b[39m Lt, Htp1 \u001b[39m=\u001b[39m Htp1, \n\u001b[1;32m     56\u001b[0m                                  taut \u001b[39m=\u001b[39m taut, c2 \u001b[39m=\u001b[39m c2)\n",
      "File \u001b[0;32m~/Documents/math/learning_graphs/prior_knowledge/../learnHeat3.py:187\u001b[0m, in \u001b[0;36madmm\u001b[0;34m(X, Lt, gradient, Htp1, taut, dt, beta, verbose)\u001b[0m\n\u001b[1;32m    185\u001b[0m prob\u001b[39m.\u001b[39msolve(verbose\u001b[39m=\u001b[39mverbose, solver\u001b[39m=\u001b[39mcp\u001b[39m.\u001b[39mSCS, scale \u001b[39m=\u001b[39m \u001b[39m1000\u001b[39m, use_indirect \u001b[39m=\u001b[39m \u001b[39mFalse\u001b[39;00m)\n\u001b[1;32m    186\u001b[0m \u001b[39mif\u001b[39;00m L\u001b[39m.\u001b[39mvalue \u001b[39mis\u001b[39;00m \u001b[39mNone\u001b[39;00m:\n\u001b[0;32m--> 187\u001b[0m     prob\u001b[39m.\u001b[39;49msolve(verbose\u001b[39m=\u001b[39;49mverbose, solver\u001b[39m=\u001b[39;49mcp\u001b[39m.\u001b[39;49mMOSEK)\n\u001b[1;32m    188\u001b[0m \u001b[39mreturn\u001b[39;00m L\u001b[39m.\u001b[39mvalue\n",
      "File \u001b[0;32m~/.local/lib/python3.8/site-packages/cvxpy/problems/problem.py:493\u001b[0m, in \u001b[0;36mProblem.solve\u001b[0;34m(self, *args, **kwargs)\u001b[0m\n\u001b[1;32m    491\u001b[0m \u001b[39melse\u001b[39;00m:\n\u001b[1;32m    492\u001b[0m     solve_func \u001b[39m=\u001b[39m Problem\u001b[39m.\u001b[39m_solve\n\u001b[0;32m--> 493\u001b[0m \u001b[39mreturn\u001b[39;00m solve_func(\u001b[39mself\u001b[39;49m, \u001b[39m*\u001b[39;49margs, \u001b[39m*\u001b[39;49m\u001b[39m*\u001b[39;49mkwargs)\n",
      "File \u001b[0;32m~/.local/lib/python3.8/site-packages/cvxpy/problems/problem.py:1064\u001b[0m, in \u001b[0;36mProblem._solve\u001b[0;34m(self, solver, warm_start, verbose, gp, qcp, requires_grad, enforce_dpp, ignore_dpp, canon_backend, **kwargs)\u001b[0m\n\u001b[1;32m   1060\u001b[0m     s\u001b[39m.\u001b[39mLOGGER\u001b[39m.\u001b[39minfo(\n\u001b[1;32m   1061\u001b[0m             \u001b[39m'\u001b[39m\u001b[39mInvoking solver \u001b[39m\u001b[39m%s\u001b[39;00m\u001b[39m  to obtain a solution.\u001b[39m\u001b[39m'\u001b[39m,\n\u001b[1;32m   1062\u001b[0m             solving_chain\u001b[39m.\u001b[39mreductions[\u001b[39m-\u001b[39m\u001b[39m1\u001b[39m]\u001b[39m.\u001b[39mname())\n\u001b[1;32m   1063\u001b[0m start \u001b[39m=\u001b[39m time\u001b[39m.\u001b[39mtime()\n\u001b[0;32m-> 1064\u001b[0m solution \u001b[39m=\u001b[39m solving_chain\u001b[39m.\u001b[39;49msolve_via_data(\n\u001b[1;32m   1065\u001b[0m     \u001b[39mself\u001b[39;49m, data, warm_start, verbose, kwargs)\n\u001b[1;32m   1066\u001b[0m end \u001b[39m=\u001b[39m time\u001b[39m.\u001b[39mtime()\n\u001b[1;32m   1067\u001b[0m \u001b[39mself\u001b[39m\u001b[39m.\u001b[39m_solve_time \u001b[39m=\u001b[39m end \u001b[39m-\u001b[39m start\n",
      "File \u001b[0;32m~/.local/lib/python3.8/site-packages/cvxpy/reductions/solvers/solving_chain.py:410\u001b[0m, in \u001b[0;36mSolvingChain.solve_via_data\u001b[0;34m(self, problem, data, warm_start, verbose, solver_opts)\u001b[0m\n\u001b[1;32m    374\u001b[0m \u001b[39mdef\u001b[39;00m \u001b[39msolve_via_data\u001b[39m(\u001b[39mself\u001b[39m, problem, data, warm_start: \u001b[39mbool\u001b[39m \u001b[39m=\u001b[39m \u001b[39mFalse\u001b[39;00m, verbose: \u001b[39mbool\u001b[39m \u001b[39m=\u001b[39m \u001b[39mFalse\u001b[39;00m,\n\u001b[1;32m    375\u001b[0m                    solver_opts\u001b[39m=\u001b[39m{}):\n\u001b[1;32m    376\u001b[0m \u001b[39m    \u001b[39m\u001b[39m\"\"\"Solves the problem using the data output by the an apply invocation.\u001b[39;00m\n\u001b[1;32m    377\u001b[0m \n\u001b[1;32m    378\u001b[0m \u001b[39m    The semantics are:\u001b[39;00m\n\u001b[0;32m   (...)\u001b[0m\n\u001b[1;32m    408\u001b[0m \u001b[39m        a Solution object.\u001b[39;00m\n\u001b[1;32m    409\u001b[0m \u001b[39m    \"\"\"\u001b[39;00m\n\u001b[0;32m--> 410\u001b[0m     \u001b[39mreturn\u001b[39;00m \u001b[39mself\u001b[39;49m\u001b[39m.\u001b[39;49msolver\u001b[39m.\u001b[39;49msolve_via_data(data, warm_start, verbose,\n\u001b[1;32m    411\u001b[0m                                       solver_opts, problem\u001b[39m.\u001b[39;49m_solver_cache)\n",
      "File \u001b[0;32m~/.local/lib/python3.8/site-packages/cvxpy/reductions/solvers/conic_solvers/mosek_conif.py:280\u001b[0m, in \u001b[0;36mMOSEK.solve_via_data\u001b[0;34m(self, data, warm_start, verbose, solver_opts, solver_cache)\u001b[0m\n\u001b[1;32m    278\u001b[0m         task \u001b[39m=\u001b[39m env\u001b[39m.\u001b[39mTask(\u001b[39m0\u001b[39m, \u001b[39m0\u001b[39m)\n\u001b[1;32m    279\u001b[0m         save_file \u001b[39m=\u001b[39m MOSEK\u001b[39m.\u001b[39mhandle_options(env, task, verbose, solver_opts)\n\u001b[0;32m--> 280\u001b[0m         task \u001b[39m=\u001b[39m MOSEK\u001b[39m.\u001b[39;49m_build_dualized_task(task, data)\n\u001b[1;32m    281\u001b[0m \u001b[39melse\u001b[39;00m:\n\u001b[1;32m    282\u001b[0m     \u001b[39mif\u001b[39;00m \u001b[39mlen\u001b[39m(data[s\u001b[39m.\u001b[39mC]) \u001b[39m==\u001b[39m \u001b[39m0\u001b[39m:\n",
      "File \u001b[0;32m~/.local/lib/python3.8/site-packages/cvxpy/reductions/solvers/conic_solvers/mosek_conif.py:337\u001b[0m, in \u001b[0;36mMOSEK._build_dualized_task\u001b[0;34m(task, data)\u001b[0m\n\u001b[1;32m    335\u001b[0m rows, cols, vals \u001b[39m=\u001b[39m sp\u001b[39m.\u001b[39msparse\u001b[39m.\u001b[39mfind(A)\n\u001b[1;32m    336\u001b[0m task\u001b[39m.\u001b[39mputaijlist(rows\u001b[39m.\u001b[39mtolist(), cols\u001b[39m.\u001b[39mtolist(), vals\u001b[39m.\u001b[39mtolist())\n\u001b[0;32m--> 337\u001b[0m task\u001b[39m.\u001b[39;49mputconboundlist(np\u001b[39m.\u001b[39;49marange(n, dtype\u001b[39m=\u001b[39;49m\u001b[39mint\u001b[39;49m), [mosek\u001b[39m.\u001b[39;49mboundkey\u001b[39m.\u001b[39;49mfx] \u001b[39m*\u001b[39;49m n, b, b)\n\u001b[1;32m    338\u001b[0m \u001b[39m# conic constraints\u001b[39;00m\n\u001b[1;32m    339\u001b[0m idx \u001b[39m=\u001b[39m K[a2d\u001b[39m.\u001b[39mFREE]\n",
      "File \u001b[0;32m~/.local/lib/python3.8/site-packages/mosek/__init__.py:17292\u001b[0m, in \u001b[0;36mTask.putconboundlist\u001b[0;34m(self, *args, **kwds)\u001b[0m\n\u001b[1;32m  17282\u001b[0m \u001b[39mdef\u001b[39;00m \u001b[39mputconboundlist\u001b[39m(\u001b[39mself\u001b[39m,\u001b[39m*\u001b[39margs,\u001b[39m*\u001b[39m\u001b[39m*\u001b[39mkwds):\n\u001b[1;32m  17283\u001b[0m \u001b[39m  \u001b[39m\u001b[39m\"\"\"\u001b[39;00m\n\u001b[1;32m  17284\u001b[0m \u001b[39m  Changes the bounds of a list of constraints.\u001b[39;00m\n\u001b[1;32m  17285\u001b[0m \u001b[39m\u001b[39;00m\n\u001b[0;32m   (...)\u001b[0m\n\u001b[1;32m  17290\u001b[0m \u001b[39m    [sub : array(int32)]  List of constraint indexes.  \u001b[39;00m\n\u001b[1;32m  17291\u001b[0m \u001b[39m  \"\"\"\u001b[39;00m\n\u001b[0;32m> 17292\u001b[0m   \u001b[39mreturn\u001b[39;00m \u001b[39mself\u001b[39;49m\u001b[39m.\u001b[39;49m__putconboundlist_OOOO_5(\u001b[39m*\u001b[39;49margs,\u001b[39m*\u001b[39;49m\u001b[39m*\u001b[39;49mkwds)\n",
      "File \u001b[0;32m~/.local/lib/python3.8/site-packages/mosek/__init__.py:17281\u001b[0m, in \u001b[0;36mTask.__putconboundlist_OOOO_5\u001b[0;34m(self, sub, bkc, blc, buc)\u001b[0m\n\u001b[1;32m  17279\u001b[0m \u001b[39mif\u001b[39;00m _res_putconboundlist \u001b[39m!=\u001b[39m \u001b[39m0\u001b[39m:\n\u001b[1;32m  17280\u001b[0m   _,_msg_putconboundlist \u001b[39m=\u001b[39m \u001b[39mself\u001b[39m\u001b[39m.\u001b[39m__getlasterror(_res_putconboundlist)\n\u001b[0;32m> 17281\u001b[0m   \u001b[39mraise\u001b[39;00m Error(rescode(_res_putconboundlist),_msg_putconboundlist)\n",
      "\u001b[0;31mError\u001b[0m: rescode.err_lower_bound_is_a_nan(1390): The lower bound specified is not a number (nan)."
     ]
    }
   ],
   "source": [
    "trial = np.load(\"trials.npy\")\n",
    "trial += 1\n",
    "steps = 4\n",
    "prior = np.linspace(0,1,steps)\n",
    "sims = 1\n",
    "N = 7\n",
    "tau0 = [2.5,4]\n",
    "alpha = 0.0\n",
    "beta = 0.05\n",
    "max_iter = 50\n",
    "# we have 3 graphs, 10 sims and 11 priors\n",
    "scores = np.zeros([3,2,sims])\n",
    "\n",
    "for i in range(sims):\n",
    "    print (i, end=\"\\r\")\n",
    "    # create graphs\n",
    "    BA = lh.heat_graph_BA(N)\n",
    "    ER = lh.heat_graph_ER(N)\n",
    "    RBF = lh.heat_graph_RBF(N)\n",
    "    XBA = lh.create_deltas(BA,tau0)\n",
    "    XER = lh.create_deltas(ER,tau0)\n",
    "    XRBF = lh.create_deltas(RBF,tau0)\n",
    "    # do the learning with different prior knowledge\n",
    "    # learn the graphs with prior\n",
    "    # this is not working, it should \n",
    "    res1 = lh3.learn_heat(XBA,lh3.cover_zeros(BA,0),tau0=tau0,alpha=alpha,beta=beta,max_iter=max_iter)\n",
    "    res11 = lh3.learn_heat(XBA,lh3.cover_zeros(BA,1),tau0=tau0,alpha=alpha,beta=beta,max_iter=max_iter)\n",
    "    res2 = lh3.learn_heat(XER,lh3.cover_zeros(ER,0),tau0=tau0,alpha=alpha,beta=beta,max_iter=max_iter)\n",
    "    res22 = lh3.learn_heat(XER,lh3.cover_zeros(ER,1),tau0=tau0,alpha=alpha,beta=beta,max_iter=max_iter)\n",
    "    res3 = lh3.learn_heat(XRBF,lh3.cover_zeros(RBF,0),tau0=tau0,alpha=alpha,beta=beta,max_iter=max_iter)\n",
    "    res33 = lh3.learn_heat(XRBF,lh3.cover_zeros(RBF,1),tau0=tau0,alpha=alpha,beta=beta,max_iter=max_iter)\n",
    "    # threshold a bitttt\n",
    "    LeBA = res1[\"L\"]\n",
    "    LeBA[abs(LeBA)<0.001] = 0\n",
    "    LeER = res2[\"L\"]\n",
    "    LeER[abs(LeER)<0.001] = 0\n",
    "    LeRBF = res3[\"L\"]\n",
    "    LeRBF[abs(LeRBF)<0.001] = 0\n",
    "    LeBA2 = res11[\"L\"]\n",
    "    LeBA2[abs(LeBA2)<0.001] = 0\n",
    "    LeER2 = res22[\"L\"]\n",
    "    LeER2[abs(LeER2)<0.001] = 0\n",
    "    LeRBF2 = res33[\"L\"]\n",
    "    LeRBF2[abs(LeRBF2)<0.001] = 0\n",
    "    # compute the fmeasure and appendscoresz\n",
    "    scores[0,0,i] = scort.mean_squared_error(LeBA,BA,True)\n",
    "    scores[1,0,i] = scort.mean_squared_error(LeER,ER,True)\n",
    "    scores[2,0,i] = scort.mean_squared_error(LeRBF,RBF,True)\n",
    "    scores[0,1,i] = scort.mean_squared_error(LeBA2,BA,True)\n",
    "    scores[1,1,i] = scort.mean_squared_error(LeER2,ER,True)\n",
    "    scores[2,1,i] = scort.mean_squared_error(LeRBF2,RBF,True)    \n",
    "    print(scores)\n",
    "\n",
    "np.save(\"justincase.npy\",scores)\n",
    "np.save(f\"{trial}_sims_{sims}_steps_{steps}_maxiter_{max_iter}_alpha_{alpha}_beta_{beta}.npy\",scores)\n",
    "np.save(\"trials.npy\",trial)"
   ]
  },
  {
   "cell_type": "code",
   "execution_count": 22,
   "metadata": {},
   "outputs": [
    {
     "data": {
      "text/plain": [
       "1.0"
      ]
     },
     "execution_count": 22,
     "metadata": {},
     "output_type": "execute_result"
    }
   ],
   "source": [
    "scort.scores(res[\"L\"],L_ground)"
   ]
  }
 ],
 "metadata": {
  "kernelspec": {
   "display_name": "Python 3",
   "language": "python",
   "name": "python3"
  },
  "language_info": {
   "codemirror_mode": {
    "name": "ipython",
    "version": 3
   },
   "file_extension": ".py",
   "mimetype": "text/x-python",
   "name": "python",
   "nbconvert_exporter": "python",
   "pygments_lexer": "ipython3",
   "version": "3.8.10"
  },
  "orig_nbformat": 4
 },
 "nbformat": 4,
 "nbformat_minor": 2
}
