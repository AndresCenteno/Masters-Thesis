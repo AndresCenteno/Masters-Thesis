{
 "cells": [
  {
   "attachments": {},
   "cell_type": "markdown",
   "metadata": {},
   "source": [
    "In this ipynb we would like to judge how does prior beliefs affect the algorithm, for that, we pass a Laplacian with zeros where we want the algorithm to not learn any edge, we will do a plot\n",
    "\n",
    "for N=10, N=20\n",
    "for ER, BA, RBF\n",
    "percentage of prior knowledge vs f-measure with a 1/(N-1) threshold of weights (or with no threshold??)"
   ]
  },
  {
   "cell_type": "code",
   "execution_count": 1,
   "metadata": {},
   "outputs": [],
   "source": [
    "import sys\n",
    "sys.path.append('../')\n",
    "import learnHeat as lh\n",
    "import learnHeat3 as lh3\n",
    "from importlib import reload\n",
    "lh3 = reload(lh3)\n",
    "lh = reload(lh)\n",
    "import numpy as np\n",
    "import matplotlib.pyplot as plt\n",
    "import scores_table as scort"
   ]
  },
  {
   "cell_type": "code",
   "execution_count": 18,
   "metadata": {},
   "outputs": [
    {
     "name": "stdout",
     "output_type": "stream",
     "text": [
      "Prior 0.0\r"
     ]
    },
    {
     "name": "stderr",
     "output_type": "stream",
     "text": [
      "/home/aner/Documents/math/learning_graphs/prior_knowledge/../learnHeat3.py:145: RuntimeWarning: invalid value encountered in scalar divide\n",
      "  B[i,j] = (np.exp(Eval[i])-np.exp(Eval[j])) / (Eval[i]-Eval[j])\n",
      "/home/aner/.local/lib/python3.8/site-packages/cvxpy/problems/problem.py:1385: UserWarning: Solution may be inaccurate. Try another solver, adjusting the solver settings, or solve with verbose=True for more information.\n",
      "  warnings.warn(\n",
      "/home/aner/Documents/math/learning_graphs/prior_knowledge/../learnHeat3.py:36: RuntimeWarning: invalid value encountered in scalar multiply\n",
      "  c2/2*(np.linalg.norm(Ltp1-Lt, 'fro')**2)\n"
     ]
    },
    {
     "name": "stdout",
     "output_type": "stream",
     "text": [
      "Failure:interrupted\n"
     ]
    },
    {
     "ename": "SolverError",
     "evalue": "Solver 'SCS' failed. Try another solver, or solve with verbose=True for more information.",
     "output_type": "error",
     "traceback": [
      "\u001b[0;31m---------------------------------------------------------------------------\u001b[0m",
      "\u001b[0;31mSolverError\u001b[0m                               Traceback (most recent call last)",
      "Cell \u001b[0;32mIn[18], line 30\u001b[0m\n\u001b[1;32m     28\u001b[0m res1 \u001b[39m=\u001b[39m lh3\u001b[39m.\u001b[39mlearn_heat(XBA,lh3\u001b[39m.\u001b[39mcover_zeros(BA,prior[j]),tau0\u001b[39m=\u001b[39mtau0,alpha\u001b[39m=\u001b[39malpha,beta\u001b[39m=\u001b[39mbeta,max_iter\u001b[39m=\u001b[39mmax_iter)\n\u001b[1;32m     29\u001b[0m res2 \u001b[39m=\u001b[39m lh3\u001b[39m.\u001b[39mlearn_heat(XER,lh3\u001b[39m.\u001b[39mcover_zeros(ER,prior[j]),tau0\u001b[39m=\u001b[39mtau0,alpha\u001b[39m=\u001b[39malpha,beta\u001b[39m=\u001b[39mbeta,max_iter\u001b[39m=\u001b[39mmax_iter)\n\u001b[0;32m---> 30\u001b[0m res3 \u001b[39m=\u001b[39m lh3\u001b[39m.\u001b[39;49mlearn_heat(XRBF,lh3\u001b[39m.\u001b[39;49mcover_zeros(RBF,prior[j]),tau0\u001b[39m=\u001b[39;49mtau0,alpha\u001b[39m=\u001b[39;49malpha,beta\u001b[39m=\u001b[39;49mbeta,max_iter\u001b[39m=\u001b[39;49mmax_iter)\n\u001b[1;32m     31\u001b[0m \u001b[39m# threshold a bitttt\u001b[39;00m\n\u001b[1;32m     32\u001b[0m LeBA \u001b[39m=\u001b[39m res1[\u001b[39m\"\u001b[39m\u001b[39mL\u001b[39m\u001b[39m\"\u001b[39m]\n",
      "File \u001b[0;32m~/Documents/math/learning_graphs/prior_knowledge/../learnHeat3.py:296\u001b[0m, in \u001b[0;36mlearn_heat\u001b[0;34m(X, L_ground, L0, H0, tau0, alpha, beta, gamma1, gamma2, gamma3, max_iter, verbose)\u001b[0m\n\u001b[1;32m    293\u001b[0m cost_bar\u001b[39m.\u001b[39mset_description_str(\u001b[39mf\u001b[39m\u001b[39m\"\u001b[39m\u001b[39mCOST: \u001b[39m\u001b[39m{\u001b[39;00m\u001b[39m'\u001b[39m\u001b[39m{:0.5f}\u001b[39;00m\u001b[39m'\u001b[39m\u001b[39m.\u001b[39mformat(cal_cost(X,\u001b[39m \u001b[39mLt,\u001b[39m \u001b[39mHtp1,\u001b[39m \u001b[39mtaut,\u001b[39m \u001b[39malpha,\u001b[39m \u001b[39mbeta))\u001b[39m}\u001b[39;00m\u001b[39m (H updated)\u001b[39m\u001b[39m\"\u001b[39m)\n\u001b[1;32m    294\u001b[0m \u001b[39m# Step to update L and D\u001b[39;00m\n\u001b[1;32m    295\u001b[0m \u001b[39m# Update L\u001b[39;00m\n\u001b[0;32m--> 296\u001b[0m Ltp1 \u001b[39m=\u001b[39m back_tracking(X, L_ground, Lt, Htp1, taut, gamma2, alpha, beta, verbose)\n\u001b[1;32m    297\u001b[0m cost_bar\u001b[39m.\u001b[39mset_description_str(\u001b[39mf\u001b[39m\u001b[39m\"\u001b[39m\u001b[39mCOST: \u001b[39m\u001b[39m{\u001b[39;00m\u001b[39m'\u001b[39m\u001b[39m{:0.5f}\u001b[39;00m\u001b[39m'\u001b[39m\u001b[39m.\u001b[39mformat(cal_cost(X,\u001b[39m \u001b[39mLtp1,\u001b[39m \u001b[39mHtp1,\u001b[39m \u001b[39mtaut,\u001b[39m \u001b[39malpha,\u001b[39m \u001b[39mbeta))\u001b[39m}\u001b[39;00m\u001b[39m (L updated)\u001b[39m\u001b[39m\"\u001b[39m)\n\u001b[1;32m    299\u001b[0m \u001b[39m## Step to update tau and D\u001b[39;00m\n",
      "File \u001b[0;32m~/Documents/math/learning_graphs/prior_knowledge/../learnHeat3.py:61\u001b[0m, in \u001b[0;36mback_tracking\u001b[0;34m(X, L_ground, Lt, Htp1, taut, gamma2, alpha, beta, verbose)\u001b[0m\n\u001b[1;32m     58\u001b[0m         Ltp1 \u001b[39m=\u001b[39m Lt\n\u001b[1;32m     59\u001b[0m     \u001b[39melse\u001b[39;00m:\n\u001b[1;32m     60\u001b[0m         \u001b[39m# Re-raise the error\u001b[39;00m\n\u001b[0;32m---> 61\u001b[0m         \u001b[39mraise\u001b[39;00m e\n\u001b[1;32m     62\u001b[0m k \u001b[39m+\u001b[39m\u001b[39m=\u001b[39m \u001b[39m1\u001b[39m\n\u001b[1;32m     63\u001b[0m cond, detail \u001b[39m=\u001b[39m descent_condition(X \u001b[39m=\u001b[39m X, Ltp1 \u001b[39m=\u001b[39m Ltp1, Lt \u001b[39m=\u001b[39m Lt, Htp1 \u001b[39m=\u001b[39m Htp1, \n\u001b[1;32m     64\u001b[0m                                  taut \u001b[39m=\u001b[39m taut, c2 \u001b[39m=\u001b[39m c2)\n",
      "File \u001b[0;32m~/Documents/math/learning_graphs/prior_knowledge/../learnHeat3.py:54\u001b[0m, in \u001b[0;36mback_tracking\u001b[0;34m(X, L_ground, Lt, Htp1, taut, gamma2, alpha, beta, verbose)\u001b[0m\n\u001b[1;32m     52\u001b[0m dt \u001b[39m=\u001b[39m gamma2\u001b[39m*\u001b[39mc2\n\u001b[1;32m     53\u001b[0m \u001b[39mtry\u001b[39;00m:\n\u001b[0;32m---> 54\u001b[0m     Ltp1 \u001b[39m=\u001b[39m admm(X, L_ground, Lt, gradient, Htp1, taut, dt, beta, verbose)\n\u001b[1;32m     55\u001b[0m \u001b[39mexcept\u001b[39;00m \u001b[39mException\u001b[39;00m \u001b[39mas\u001b[39;00m e:\n\u001b[1;32m     56\u001b[0m     \u001b[39mif\u001b[39;00m \u001b[39mstr\u001b[39m(e)\u001b[39m.\u001b[39mstartswith(\u001b[39m'\u001b[39m\u001b[39mrescode.err_lower_bound_is_a_nan(1390)\u001b[39m\u001b[39m'\u001b[39m):\n\u001b[1;32m     57\u001b[0m         \u001b[39m# Handle the error\u001b[39;00m\n",
      "File \u001b[0;32m~/Documents/math/learning_graphs/prior_knowledge/../learnHeat3.py:193\u001b[0m, in \u001b[0;36madmm\u001b[0;34m(X, L_ground, Lt, gradient, Htp1, taut, dt, beta, verbose)\u001b[0m\n\u001b[1;32m    191\u001b[0m \u001b[39m# solve problem\u001b[39;00m\n\u001b[1;32m    192\u001b[0m prob \u001b[39m=\u001b[39m cp\u001b[39m.\u001b[39mProblem(obj, constraints)\n\u001b[0;32m--> 193\u001b[0m prob\u001b[39m.\u001b[39;49msolve(verbose\u001b[39m=\u001b[39;49mverbose, solver\u001b[39m=\u001b[39;49mcp\u001b[39m.\u001b[39;49mSCS, scale \u001b[39m=\u001b[39;49m \u001b[39m1000\u001b[39;49m, use_indirect \u001b[39m=\u001b[39;49m \u001b[39mFalse\u001b[39;49;00m)\n\u001b[1;32m    194\u001b[0m \u001b[39mif\u001b[39;00m L\u001b[39m.\u001b[39mvalue \u001b[39mis\u001b[39;00m \u001b[39mNone\u001b[39;00m:\n\u001b[1;32m    195\u001b[0m     prob\u001b[39m.\u001b[39msolve(verbose\u001b[39m=\u001b[39mverbose, solver\u001b[39m=\u001b[39mcp\u001b[39m.\u001b[39mMOSEK)\n",
      "File \u001b[0;32m~/.local/lib/python3.8/site-packages/cvxpy/problems/problem.py:493\u001b[0m, in \u001b[0;36mProblem.solve\u001b[0;34m(self, *args, **kwargs)\u001b[0m\n\u001b[1;32m    491\u001b[0m \u001b[39melse\u001b[39;00m:\n\u001b[1;32m    492\u001b[0m     solve_func \u001b[39m=\u001b[39m Problem\u001b[39m.\u001b[39m_solve\n\u001b[0;32m--> 493\u001b[0m \u001b[39mreturn\u001b[39;00m solve_func(\u001b[39mself\u001b[39;49m, \u001b[39m*\u001b[39;49margs, \u001b[39m*\u001b[39;49m\u001b[39m*\u001b[39;49mkwargs)\n",
      "File \u001b[0;32m~/.local/lib/python3.8/site-packages/cvxpy/problems/problem.py:1068\u001b[0m, in \u001b[0;36mProblem._solve\u001b[0;34m(self, solver, warm_start, verbose, gp, qcp, requires_grad, enforce_dpp, ignore_dpp, canon_backend, **kwargs)\u001b[0m\n\u001b[1;32m   1066\u001b[0m end \u001b[39m=\u001b[39m time\u001b[39m.\u001b[39mtime()\n\u001b[1;32m   1067\u001b[0m \u001b[39mself\u001b[39m\u001b[39m.\u001b[39m_solve_time \u001b[39m=\u001b[39m end \u001b[39m-\u001b[39m start\n\u001b[0;32m-> 1068\u001b[0m \u001b[39mself\u001b[39;49m\u001b[39m.\u001b[39;49munpack_results(solution, solving_chain, inverse_data)\n\u001b[1;32m   1069\u001b[0m \u001b[39mif\u001b[39;00m verbose:\n\u001b[1;32m   1070\u001b[0m     \u001b[39mprint\u001b[39m(_FOOTER)\n",
      "File \u001b[0;32m~/.local/lib/python3.8/site-packages/cvxpy/problems/problem.py:1393\u001b[0m, in \u001b[0;36mProblem.unpack_results\u001b[0;34m(self, solution, chain, inverse_data)\u001b[0m\n\u001b[1;32m   1391\u001b[0m     warnings\u001b[39m.\u001b[39mwarn(INF_OR_UNB_MESSAGE)\n\u001b[1;32m   1392\u001b[0m \u001b[39mif\u001b[39;00m solution\u001b[39m.\u001b[39mstatus \u001b[39min\u001b[39;00m s\u001b[39m.\u001b[39mERROR:\n\u001b[0;32m-> 1393\u001b[0m     \u001b[39mraise\u001b[39;00m error\u001b[39m.\u001b[39mSolverError(\n\u001b[1;32m   1394\u001b[0m             \u001b[39m\"\u001b[39m\u001b[39mSolver \u001b[39m\u001b[39m'\u001b[39m\u001b[39m%s\u001b[39;00m\u001b[39m'\u001b[39m\u001b[39m failed. \u001b[39m\u001b[39m\"\u001b[39m \u001b[39m%\u001b[39m chain\u001b[39m.\u001b[39msolver\u001b[39m.\u001b[39mname() \u001b[39m+\u001b[39m\n\u001b[1;32m   1395\u001b[0m             \u001b[39m\"\u001b[39m\u001b[39mTry another solver, or solve with verbose=True for more \u001b[39m\u001b[39m\"\u001b[39m\n\u001b[1;32m   1396\u001b[0m             \u001b[39m\"\u001b[39m\u001b[39minformation.\u001b[39m\u001b[39m\"\u001b[39m)\n\u001b[1;32m   1398\u001b[0m \u001b[39mself\u001b[39m\u001b[39m.\u001b[39munpack(solution)\n\u001b[1;32m   1399\u001b[0m \u001b[39mself\u001b[39m\u001b[39m.\u001b[39m_solver_stats \u001b[39m=\u001b[39m SolverStats(\u001b[39mself\u001b[39m\u001b[39m.\u001b[39m_solution\u001b[39m.\u001b[39mattr,\n\u001b[1;32m   1400\u001b[0m                                  chain\u001b[39m.\u001b[39msolver\u001b[39m.\u001b[39mname())\n",
      "\u001b[0;31mSolverError\u001b[0m: Solver 'SCS' failed. Try another solver, or solve with verbose=True for more information."
     ]
    }
   ],
   "source": [
    "trial = np.load(\"trials.npy\")\n",
    "trial += 1\n",
    "steps = 4\n",
    "prior = np.linspace(0,1,steps)\n",
    "sims = 1\n",
    "N = 7\n",
    "tau0 = [2.5,4]\n",
    "alpha = 0.01\n",
    "beta = 0.1\n",
    "max_iter = 50\n",
    "# we have 3 graphs, 10 sims and 11 priors\n",
    "scores = np.zeros([3,sims,steps])\n",
    "\n",
    "for i in range(sims):\n",
    "    print (i, end=\"\\r\")\n",
    "    # create graphs\n",
    "    BA = lh.heat_graph_BA(N)\n",
    "    ER = lh.heat_graph_ER(N)\n",
    "    RBF = lh.heat_graph_RBF(N)\n",
    "    XBA = lh.create_deltas(BA,tau0)\n",
    "    XER = lh.create_deltas(ER,tau0)\n",
    "    XRBF = lh.create_deltas(RBF,tau0)\n",
    "    # do the learning with different prior knowledge\n",
    "    for j in range(steps):\n",
    "        print(f\"Prior {prior[j]}\", end=\"\\r\")\n",
    "        # learn the graphs with prior\n",
    "        # this is not working, it should \n",
    "        res1 = lh3.learn_heat(XBA,lh3.cover_zeros(BA,prior[j]),tau0=tau0,alpha=alpha,beta=beta,max_iter=max_iter)\n",
    "        res2 = lh3.learn_heat(XER,lh3.cover_zeros(ER,prior[j]),tau0=tau0,alpha=alpha,beta=beta,max_iter=max_iter)\n",
    "        res3 = lh3.learn_heat(XRBF,lh3.cover_zeros(RBF,prior[j]),tau0=tau0,alpha=alpha,beta=beta,max_iter=max_iter)\n",
    "        # threshold a bitttt\n",
    "        LeBA = res1[\"L\"]\n",
    "        LeBA[abs(LeBA)<0.001] = 0\n",
    "        LeER = res2[\"L\"]\n",
    "        LeER[abs(LeER)<0.001] = 0\n",
    "        LeRBF = res3[\"L\"]\n",
    "        LeRBF[abs(LeRBF)<0.001] = 0\n",
    "        # compute the fmeasure and appendscoresz\n",
    "        scores[0,i,j] = scort.scores(LeBA,BA)\n",
    "        print(scores)\n",
    "        scores[1,i,j] = scort.scores(LeER,ER)\n",
    "        print(scores)\n",
    "        scores[2,i,j] = scort.scores(LeRBF,RBF)\n",
    "        print(scores)\n",
    "\n",
    "np.save(\"justincase.npy\",scores)\n",
    "np.save(f\"{trial}_sims_{sims}_steps_{steps}_maxiter_{max_iter}_alpha_{alpha}_beta_{beta}.npy\",scores)\n",
    "np.save(\"trials.npy\",trial)"
   ]
  },
  {
   "cell_type": "code",
   "execution_count": 3,
   "metadata": {},
   "outputs": [],
   "source": [
    "np.save(f\"{trial}_sims_{sims}_steps_{steps}_maxiter_{max_iter}_alpha_{alpha}_beta_{beta}.npy\",scores)"
   ]
  },
  {
   "cell_type": "code",
   "execution_count": 8,
   "metadata": {},
   "outputs": [
    {
     "data": {
      "text/plain": [
       "58"
      ]
     },
     "execution_count": 8,
     "metadata": {},
     "output_type": "execute_result"
    }
   ],
   "source": [
    "Lstar = lh3.cover_zeros(BA,0)\n",
    "np.count_nonzero(Lstar)"
   ]
  },
  {
   "cell_type": "code",
   "execution_count": 10,
   "metadata": {},
   "outputs": [],
   "source": [
    "res4 = lh3.learn_heat(XBA,Lstar,tau0=tau0,alpha=alpha,beta=beta,max_iter=max_iter)"
   ]
  },
  {
   "cell_type": "code",
   "execution_count": 17,
   "metadata": {},
   "outputs": [
    {
     "data": {
      "text/plain": [
       "58"
      ]
     },
     "execution_count": 17,
     "metadata": {},
     "output_type": "execute_result"
    }
   ],
   "source": [
    "np.count_nonzero(res4[\"L\"])\n",
    "Lstar2 = res4[\"L\"]\n",
    "Lstar2[abs(Lstar2)<0.001] = 0\n",
    "np.count_nonzero(Lstar2)"
   ]
  }
 ],
 "metadata": {
  "kernelspec": {
   "display_name": "Python 3",
   "language": "python",
   "name": "python3"
  },
  "language_info": {
   "codemirror_mode": {
    "name": "ipython",
    "version": 3
   },
   "file_extension": ".py",
   "mimetype": "text/x-python",
   "name": "python",
   "nbconvert_exporter": "python",
   "pygments_lexer": "ipython3",
   "version": "3.8.10"
  },
  "orig_nbformat": 4
 },
 "nbformat": 4,
 "nbformat_minor": 2
}
