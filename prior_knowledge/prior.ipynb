{
 "cells": [
  {
   "attachments": {},
   "cell_type": "markdown",
   "metadata": {},
   "source": [
    "In this ipynb we would like to judge how does prior beliefs affect the algorithm, for that, we pass a Laplacian with zeros where we want the algorithm to not learn any edge, we will do a plot\n",
    "\n",
    "for N=10, N=20\n",
    "for ER, BA, RBF\n",
    "percentage of prior knowledge vs f-measure with a 1/(N-1) threshold\n",
    "\n",
    "and for that we need"
   ]
  }
 ],
 "metadata": {
  "language_info": {
   "name": "python"
  },
  "orig_nbformat": 4
 },
 "nbformat": 4,
 "nbformat_minor": 2
}
